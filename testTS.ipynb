{
 "cells": [
  {
   "cell_type": "code",
   "execution_count": 1,
   "metadata": {
    "collapsed": true
   },
   "outputs": [],
   "source": [
    "import numpy as np\n",
    "import matplotlib.pyplot as plt\n",
    "from itertools import product\n",
    "import pickle\n",
    "from RMAB import *\n",
    "from ThompsonSampling import ThompsonSampling\n",
    "\n",
    "%matplotlib inline"
   ]
  },
  {
   "cell_type": "code",
   "execution_count": 5,
   "metadata": {},
   "outputs": [
    {
     "name": "stdout",
     "output_type": "stream",
     "text": [
      "True p\n",
      "[[ 0.1  0.4]\n",
      " [ 0.2  0.1]\n",
      " [ 0.5  0.2]\n",
      " [ 0.5  0.8]\n",
      " [ 0.1  0.7]\n",
      " [ 0.2  0.8]\n",
      " [ 0.7  0.5]\n",
      " [ 0.9  0.8]]\n",
      "\n",
      "Estimating the value of whittle...\n",
      "Value(whittle) =  218.6\n",
      "\n",
      "Running TS...\n",
      "Average Value(TS) =  203.45\n",
      "\n",
      "Maximal weights\n",
      "[0.1, 0.4] 0.14\n",
      "[0.2, 0.2] 0.36\n",
      "[0.4, 0.2] 0.14\n",
      "[0.5, 0.8] 1.0\n",
      "[0.1, 0.6] 0.43\n",
      "[0.2, 0.7] 0.86\n",
      "[0.7, 0.5] 1.0\n",
      "[0.9, 0.8] 1.0\n",
      "\n"
     ]
    },
    {
     "data": {
      "text/plain": [
       "[<matplotlib.lines.Line2D at 0x10d577790>]"
      ]
     },
     "execution_count": 5,
     "metadata": {},
     "output_type": "execute_result"
    },
    {
     "data": {
      "image/png": "[encoded data removed]",
      "text/plain": [
       "<matplotlib.figure.Figure at 0x10d2b0dd0>"
      ]
     },
     "metadata": {},
     "output_type": "display_data"
    }
   ],
   "source": [
    "K = 8\n",
    "N = 3\n",
    "M = 100 # size of MCMC iterations\n",
    "L = 100\n",
    "m = 20 # T = m * L\n",
    "baseline = 'whittle'\n",
    "\n",
    "supp = np.linspace(0.1, 0.9, 9)\n",
    "len_supp = len(supp)\n",
    "posterior = np.ones((K, len_supp**2)) / len_supp**2\n",
    "\n",
    "\n",
    "# Draw true p\n",
    "p = np.random.choice(supp, 2*K).reshape(K, 2)\n",
    "w = get_stable_dist(p)\n",
    "\n",
    "print \"True p\"\n",
    "print p\n",
    "print \n",
    "\n",
    "rmab = RestlessMAB(K)\n",
    "rmab.initialize(p, w)\n",
    "policy = ThompsonSampling(rmab, N)\n",
    "\n",
    "# Estimate the value of WIP\n",
    "print \"Estimating the value of {0}...\".format(baseline)\n",
    "value_baseline = 0.0\n",
    "for _ in xrange(M):\n",
    "    value_baseline += policy.run_baseline(p, w, L, baseline) / float(M)\n",
    "print \"Value({0}) = \".format(baseline), value_baseline\n",
    "print \n",
    "\n",
    "print \"Running TS...\"\n",
    "policy = ThompsonSampling(rmab, N, supp, posterior)\n",
    "results = policy.runTS(L, m, baseline=baseline)\n",
    "print \"Average Value(TS) = \", np.average(results)\n",
    "print \n",
    "\n",
    "print \"Maximal weights\"\n",
    "policy.get_posterior_summary()\n",
    "print\n",
    "\n",
    "plt.figure(figsize=(16, 8))\n",
    "plt.plot(range(m), (1 + np.arange(m)) * value_baseline - np.cumsum(results), '.-')"
   ]
  }
 ],
 "metadata": {
  "kernelspec": {
   "display_name": "Python 2",
   "language": "python",
   "name": "python2"
  },
  "language_info": {
   "codemirror_mode": {
    "name": "ipython",
    "version": 2
   },
   "file_extension": ".py",
   "mimetype": "text/x-python",
   "name": "python",
   "nbconvert_exporter": "python",
   "pygments_lexer": "ipython2",
   "version": "2.7.13"
  }
 },
 "nbformat": 4,
 "nbformat_minor": 2
}
